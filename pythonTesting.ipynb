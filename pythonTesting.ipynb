{
 "cells": [
  {
   "cell_type": "code",
   "execution_count": null,
   "id": "62db29d2",
   "metadata": {},
   "outputs": [],
   "source": [
    "# Writen by Horia-Gabriel Radu - 2021-2022\n",
    "# for Third Year Project at University of Manchester"
   ]
  },
  {
   "cell_type": "code",
   "execution_count": 1,
   "id": "3156d660",
   "metadata": {},
   "outputs": [],
   "source": [
    "import cv2\n",
    "import numpy as np\n",
    "import matplotlib.pyplot as plt\n",
    "import random\n",
    "r = random.randint(0, 255)\n",
    "g = random.randint(0, 255)\n",
    "b = random.randint(0, 255)\n",
    "a = random.randint(0, 255)"
   ]
  },
  {
   "cell_type": "code",
   "execution_count": 2,
   "id": "e216a5b4",
   "metadata": {},
   "outputs": [],
   "source": [
    "caffeWeightFile = \"models/res10_300x300_ssd_iter_140000_fp16.caffemodel\"\n",
    "caffeConfigFile = \"models/deploy.prototxt\"\n",
    "netFace = cv2.dnn.readNetFromCaffe(caffeConfigFile, caffeWeightFile)\n",
    "\n",
    "# tensorflowWeightFile = \"models/opencv_face_detector_uint8.pb\"\n",
    "# tensorflowConfigFile = \"models/opencv_face_detector.pbtxt\"\n",
    "# netFace = cv2.dnn.readNetFromTensorflow(tensorflowWeightFile, tensorflowConfigFile)"
   ]
  },
  {
   "cell_type": "code",
   "execution_count": 18,
   "id": "4ba6ddea",
   "metadata": {
    "scrolled": true
   },
   "outputs": [
    {
     "name": "stdout",
     "output_type": "stream",
     "text": [
      "(1296, 1296, 3)\n",
      "--ONE RUN--\n",
      "(85, 3, 300, 300)\n",
      "(1, 1, 17000, 7)\n",
      "(17000, 7)\n",
      "[2.         1.         0.9803459  0.24962205 0.6552639  0.3462484\n",
      " 0.77150023]\n",
      "[2.         1.         0.9725089  0.71990174 0.58500314 0.8102872\n",
      " 0.7393007 ]\n",
      "[7.         1.         0.99298877 0.59136266 0.32974395 0.6771248\n",
      " 0.4502683 ]\n",
      "[8.         1.         0.9753837  0.12620413 0.42689064 0.23354203\n",
      " 0.5551789 ]\n",
      "[8.        1.        0.9678698 0.698319  0.4076264 0.7889978 0.537886 ]\n",
      "[11.          1.          0.99897635  0.49623278  0.32880026  0.6620577\n",
      "  0.5439659 ]\n",
      "[12.          1.          0.99840254  0.4372443   0.1816729   0.6278564\n",
      "  0.471508  ]\n",
      "[30.          1.          0.9998148   0.1989789   0.6476496   0.36498165\n",
      "  0.89117664]\n",
      "[30.          1.          0.99392396  0.58287156  0.8123692   0.67669594\n",
      "  0.9396485 ]\n",
      "[30.          1.          0.8605848   0.7337442   0.86817485  0.8760335\n",
      "  0.99415547]\n",
      "[33.          1.          0.9941636   0.74661684  0.6866536   0.8619652\n",
      "  0.83585954]\n",
      "[33.          1.          0.9804482   0.47170734  0.66016424  0.5875311\n",
      "  0.83761036]\n",
      "[33.          1.          0.98037523  0.25789645  0.81206423  0.455875\n",
      "  0.99551946]\n",
      "[34.          1.          0.93499136  0.12452684  0.68626815  0.2324662\n",
      "  0.8257553 ]\n",
      "[34.          1.          0.86025995  0.22287555  0.76949364  0.31763023\n",
      "  0.87652653]\n",
      "[4.6000000e+01 1.0000000e+00 9.9982858e-01 1.5933394e-02 6.3952094e-01\n",
      " 3.3408159e-01 9.9857610e-01]\n",
      "DONE\n"
     ]
    }
   ],
   "source": [
    "# cam = cv2.VideoCapture(0)\n",
    "\n",
    "cv2.namedWindow(\"test\")\n",
    "\n",
    "img_counter = 0\n",
    "\n",
    "crops = 1\n",
    "\n",
    "while True:\n",
    "#     ret, frame = cam.read()\n",
    "#     frame = np.flip(frame, 1)\n",
    "#     if not ret:\n",
    "#         print(\"failed to grab frame\")\n",
    "#         break\n",
    "    frame = cv2.imread(\"/home/horia/Documents/third-year-project/code/detectFace/images/10.jpg\")\n",
    "    mx = max(frame.shape[0], frame.shape[1])\n",
    "    if frame.shape[0] > frame.shape[1]:\n",
    "        dif = frame.shape[0] - frame.shape[1]\n",
    "        frame = cv2.copyMakeBorder(frame, 0, 0, dif//2, dif//2, 0)\n",
    "    elif frame.shape[0] < frame.shape[1]:\n",
    "        dif = frame.shape[1] - frame.shape[0]\n",
    "        frame = cv2.copyMakeBorder(frame, dif//2, dif//2, 0, 0, 0)\n",
    "    frameCopy = frame.copy()\n",
    "    print(frame.shape)\n",
    "    \n",
    "    inputImgs = []\n",
    "    croppedImgs = []\n",
    "    tempImgs = []\n",
    "    offsets = []\n",
    "    sizes = []\n",
    "    \n",
    "    inputImgs.append(frame)\n",
    "    offsets.append((0, 0))\n",
    "    sizes.append((int(frame.shape[0]), int(frame.shape[1]), 0))\n",
    "    croppedImgs.append(frame)\n",
    "    \n",
    "    P = 40//2\n",
    "    depth = 3\n",
    "    iteration = 0\n",
    "    oNr = 0\n",
    "    \n",
    "    \n",
    "    print(\"--ONE RUN--\")\n",
    "    while True:\n",
    "#         print(\"iteration\", iteration)\n",
    "        if iteration == depth:\n",
    "#             print(\"len input\", len(inputImgs))\n",
    "            break\n",
    "#         print(\"len croppd imgs\",len(croppedImgs))\n",
    "        P=P//2\n",
    "        for orgImg in croppedImgs:\n",
    "            (h, w) = orgImg.shape[:2]\n",
    "            centerX = w//2\n",
    "            centerY = h//2\n",
    "\n",
    "            topLeft     = orgImg[0:centerY+P, 0:centerX+P]\n",
    "            topRight    = orgImg[0:centerY+P, centerX-P:w]\n",
    "            bottomLeft  = orgImg[centerY-P:h, 0:centerX+P]\n",
    "            bottomRight = orgImg[centerY-P:h, centerX-P:w]\n",
    "\n",
    "            tempImgs.append(topLeft)\n",
    "            tempImgs.append(topRight)\n",
    "            tempImgs.append(bottomLeft)\n",
    "            tempImgs.append(bottomRight)\n",
    "\n",
    "            offsets.append((        0 + offsets[oNr][0], 0         + offsets[oNr][1]))\n",
    "            offsets.append((        0 + offsets[oNr][0], centerX-P + offsets[oNr][1]))\n",
    "            offsets.append((centerY-P + offsets[oNr][0], 0         + offsets[oNr][1]))\n",
    "            offsets.append((centerY-P + offsets[oNr][0], centerX-P + offsets[oNr][1]))\n",
    "            inputImgs.append(topLeft)\n",
    "            inputImgs.append(topRight)\n",
    "            inputImgs.append(bottomLeft)\n",
    "            inputImgs.append(bottomRight)\n",
    "            \n",
    "            for _ in range(4):\n",
    "                sizes.append((h, w, P))\n",
    "            \n",
    "#                 #topleft\n",
    "#             cv2.line(frameCopy, (centerX+P + offsets[oNr][1], centerY+P + offsets[oNr][0]), (centerX+P + offsets[oNr][1], 0         + offsets[oNr][0]), (255, 0, 0), depth-iteration)\n",
    "#             cv2.line(frameCopy, (centerX+P + offsets[oNr][1], centerY+P + offsets[oNr][0]), (0 + offsets[oNr][1]        , centerY+P + offsets[oNr][0]), (255, 0, 0), depth-iteration)\n",
    "#                 #topright\n",
    "#             cv2.line(frameCopy, (centerX-P + offsets[oNr][1], centerY+P + offsets[oNr][0]), (centerX-P + offsets[oNr][1], 0         + offsets[oNr][0]), (0, 255, 255), depth-iteration)\n",
    "#             cv2.line(frameCopy, (centerX-P + offsets[oNr][1], centerY+P + offsets[oNr][0]), (w + offsets[oNr][1]        , centerY+P + offsets[oNr][0]), (0, 255, 255), depth-iteration)\n",
    "#                 #bottomleft\n",
    "#             cv2.line(frameCopy, (centerX+P + offsets[oNr][1], centerY-P + offsets[oNr][0]), (centerX+P + offsets[oNr][1], h         + offsets[oNr][0]), (255, 255, 0), depth-iteration)\n",
    "#             cv2.line(frameCopy, (centerX+P + offsets[oNr][1], centerY-P + offsets[oNr][0]), (0 + offsets[oNr][1]        , centerY-P + offsets[oNr][0]), (255, 255, 0), depth-iteration)\n",
    "#                 #bottomright\n",
    "#             cv2.line(frameCopy, (centerX-P + offsets[oNr][1], centerY-P + offsets[oNr][0]), (centerX-P + offsets[oNr][1], h         + offsets[oNr][0]), (255, 0, 255), depth-iteration)\n",
    "#             cv2.line(frameCopy, (centerX-P + offsets[oNr][1], centerY-P + offsets[oNr][0]), (w + offsets[oNr][1]        , centerY-P + offsets[oNr][0]), (255, 0, 255), depth-iteration)\n",
    "#                 #main axes\n",
    "#             cv2.line(frameCopy, (w//2 + offsets[oNr][1], 0    + offsets[oNr][0]), (w//2 + offsets[oNr][1], h    + offsets[oNr][0]), (0, 0, 255), 2)\n",
    "#             cv2.line(frameCopy, (0    + offsets[oNr][1], h//2 + offsets[oNr][0]), (w    + offsets[oNr][1], h//2 + offsets[oNr][0]), (0, 0, 255), 2)\n",
    "            oNr+=1\n",
    "            \n",
    "        iteration+=1\n",
    "        croppedImgs = tempImgs.copy()\n",
    "        tempImgs = []\n",
    "\n",
    "    inputBlob = cv2.dnn.blobFromImages(inputImgs, 1.0, (300, 300), (104.0, 177.0, 123.0), False, False);\n",
    "    \n",
    "    netFace.setInput(inputBlob, \"data\")\n",
    "    detections = netFace.forward(\"detection_out\")\n",
    "    print(inputBlob.shape)\n",
    "    print(detections.shape)\n",
    "\n",
    "    boxes = []\n",
    "    scores = []\n",
    "    offset_y,offset_x = 0,0\n",
    "    print(detections[0,0].shape)\n",
    "    for i in range(0, detections.shape[2]):\n",
    "        \n",
    "        confidence = detections[0, 0, i, 2]\n",
    "        offset_y,offset_x = offsets[int(detections[0, 0, i, 0])]\n",
    "\n",
    "        if confidence < 0.7:\n",
    "            continue\n",
    "        if detections[0, 0, i, 3] > 1.0 or detections[0, 0, i, 3] < 0.0 or detections[0, 0, i, 4] > 1.0 or detections[0, 0, i, 4] < 0.0 or detections[0, 0, i, 5] > 1.0 or detections[0, 0, i, 5] < 0.0 or detections[0, 0, i, 6] > 1.0 or detections[0, 0, i, 6] < 0.0:\n",
    "            continue\n",
    "        print(detections[0, 0, i])\n",
    "        bnr = int(detections[0, 0, i, 0])\n",
    "        if bnr == 0:\n",
    "            box = detections[0, 0, i, 3:7] * np.array([sizes[0][1], sizes[0][0], sizes[0][1], sizes[0][0]])\n",
    "            scores.append(float(confidence+5))\n",
    "        elif bnr < 5:\n",
    "            box = detections[0, 0, i, 3:7] * np.array([sizes[bnr][1]//2+sizes[bnr][2], sizes[bnr][0]//2+sizes[bnr][2], sizes[bnr][1]//2+sizes[bnr][2], sizes[bnr][0]//2+sizes[bnr][2]])\n",
    "            scores.append(float(confidence+4))\n",
    "        elif bnr < 21:\n",
    "            box = detections[0, 0, i, 3:7] * np.array([sizes[bnr][1]//2+sizes[bnr][2], sizes[bnr][0]//2+sizes[bnr][2], sizes[bnr][1]//2+sizes[bnr][2], sizes[bnr][0]//2+sizes[bnr][2]])\n",
    "            scores.append(float(confidence+3))\n",
    "        elif bnr < 85:\n",
    "            box = detections[0, 0, i, 3:7] * np.array([sizes[bnr][1]//2+sizes[bnr][2], sizes[bnr][0]//2+sizes[bnr][2], sizes[bnr][1]//2+sizes[bnr][2], sizes[bnr][0]//2+sizes[bnr][2]])\n",
    "            scores.append(float(confidence+2))\n",
    "        elif bnr < 341:\n",
    "            box = detections[0, 0, i, 3:7] * np.array([sizes[bnr][1]//2+sizes[bnr][2], sizes[bnr][0]//2+sizes[bnr][2], sizes[bnr][1]//2+sizes[bnr][2], sizes[bnr][0]//2+sizes[bnr][2]])\n",
    "            scores.append(float(confidence+1))\n",
    "        else:\n",
    "            box = detections[0, 0, i, 3:7] * np.array([sizes[bnr][1]//2+sizes[bnr][2], sizes[bnr][0]//2+sizes[bnr][2], sizes[bnr][1]//2+sizes[bnr][2], sizes[bnr][0]//2+sizes[bnr][2]])\n",
    "            scores.append(float(confidence))\n",
    "        (startX, startY, endX, endY) = box\n",
    "        boxWidth = endX-startX\n",
    "        boxHeight = endY-startY\n",
    "        boxes.append([int(startX+offset_x), int(startY+offset_y), int(boxWidth), int(boxHeight)])\n",
    "        #cv2.rectangle(frameCopy, (int(startX+offset_x), int(startY+offset_y)), (int(endX+offset_x), int(endY+offset_y)), (0, 255, 0), 1)\n",
    "#         if bnr == 1:\n",
    "#             cv2.rectangle(topLeft, (int(startX), int(startY)), (int(endX), int(endY)), (0, 255, 0), 2)\n",
    "#         elif bnr == 2:\n",
    "#             cv2.rectangle(topRight, (int(startX), int(startY)), (int(endX), int(endY)), (0, 255, 0), 2)\n",
    "#         elif bnr == 3:\n",
    "#             cv2.rectangle(bottomLeft, (int(startX), int(startY)), (int(endX), int(endY)), (0, 255, 0), 2)\n",
    "#         elif bnr == 4:\n",
    "#             cv2.rectangle(bottomRight, (int(startX), int(startY)), (int(endX), int(endY)), (0, 255, 0), 2)\n",
    "    \n",
    "# #     print(boxes)\n",
    "# #     print(scores)\n",
    "    indices = cv2.dnn.NMSBoxes(boxes, scores, 0.7, 0.1)\n",
    "\n",
    "    for i in indices:\n",
    "        i = i[0]\n",
    "        box = boxes[i]\n",
    "        x1 = box[0]\n",
    "        y1 = box[1]\n",
    "        x2 = box[2]\n",
    "        y2 = box[3]\n",
    "#         final_boxes.append(box)\n",
    "#         left, top, right, bottom = refined_box(left, top, width, height)\n",
    "        # draw_predict(frame, confidences[i], left, top, left + width,\n",
    "        #              top + height)\n",
    "        cv2.rectangle(frameCopy, (x1, y1), (x1+x2, y1+y2), (0, 255, 0), 2)\n",
    "        \n",
    "#     print(frameCopy.shape)\n",
    "#     print(topLeft.shape)\n",
    "#     print(topRight.shape)\n",
    "#     print(bottomLeft.shape)\n",
    "#     print(bottomRight.shape)\n",
    "    \n",
    "    cv2.imshow(\"test\", frameCopy)\n",
    "#     cv2.waitKey(0)\n",
    "#     cv2.imshow(\"test\", topLeft)\n",
    "#     cv2.waitKey(0)\n",
    "#     cv2.imshow(\"test\", topRight)\n",
    "#     cv2.waitKey(0)\n",
    "#     cv2.imshow(\"test\", bottomLeft)\n",
    "#     cv2.waitKey(0)\n",
    "#     cv2.imshow(\"test\", bottomRight)\n",
    "    cv2.waitKey(0)\n",
    "    break\n",
    "\n",
    "    k = cv2.waitKey(1)\n",
    "    if k%256 == 27:\n",
    "        break\n",
    "    elif k%256 == 32:\n",
    "        img_name = \"opencv_frame_{}.png\".format(img_counter)\n",
    "        cv2.imwrite(img_name, frame)\n",
    "        print(\"{} written!\".format(img_name))\n",
    "        img_counter += 1\n",
    "        \n",
    "    \n",
    "\n",
    "# cam.release()\n",
    "\n",
    "cv2.destroyAllWindows()\n",
    "\n",
    "print(\"DONE\")"
   ]
  },
  {
   "cell_type": "code",
   "execution_count": 60,
   "id": "fea67edf",
   "metadata": {
    "scrolled": true
   },
   "outputs": [
    {
     "name": "stdout",
     "output_type": "stream",
     "text": [
      "(300, 300, 3)\n",
      "(1, 3, 150, 150)\n",
      "(1, 1, 200, 7)\n",
      "(200, 7)\n",
      "[ 0.          1.          0.9999809   0.02128157 -0.00305453  0.6268759\n",
      "  0.77544045]\n",
      "6 0 188 232\n",
      "(300, 300, 3)\n"
     ]
    }
   ],
   "source": [
    "frame = cv2.imread(\"/home/horia/Documents/third-year-project/code/detectFace/images/2.jpg\")\n",
    "(h, w) = frame.shape[:2]\n",
    "bottomRight = frame[h//2-100:h, w//2-100:w]\n",
    "print(bottomRight.shape)\n",
    "cv2.imshow(\"test\", bottomRight)\n",
    "k = cv2.waitKey(0)\n",
    "# bottomRight = cv2.resize(bottomRight, (300, 300))\n",
    "# print(bottomRight.shape)\n",
    "inputBlob = cv2.dnn.blobFromImage(bottomRight, 1.0, (150, 150), (104.0, 177.0, 123.0), False, False);\n",
    "# inputBlob[0] = inputBlob[0].flip(1)\n",
    "netFace.setInput(inputBlob)\n",
    "detections = netFace.forward()\n",
    "print(inputBlob.shape)\n",
    "print(detections.shape)\n",
    "\n",
    "offset_y,offset_x = 0,0\n",
    "print(detections[0,0].shape)\n",
    "for i in range(0, detections.shape[2]):\n",
    "\n",
    "    confidence = detections[0, 0, i, 2]\n",
    "    \n",
    "    if confidence < 0.7:\n",
    "        continue\n",
    "    print(detections[0, 0, i])\n",
    "    bnr = int(detections[0, 0, i, 0])\n",
    "#         print(bnr)\n",
    "#         print(sizes)\n",
    "    box = detections[0, 0, i, 3:7] * np.array([bottomRight.shape[1], bottomRight.shape[0], bottomRight.shape[1], bottomRight.shape[0]])\n",
    "    \n",
    "    (startX, startY, endX, endY) = box\n",
    "    print(int(startX), int(startY), int(endX), int(endY))\n",
    "#     cv2.rectangle(frameCopy, (int(startX+offset_x), int(startY+offset_y)), (int(endX+offset_x), int(endY+offset_y)), (0, 255, 0), 2)\n",
    "    cv2.rectangle(bottomRight, (int(startX), int(startY)), (int(endX), int(endY)), (0, 255, 0), 2)\n",
    "\n",
    "\n",
    "# print(detections[0, 0, :, 3].min())\n",
    "# print(detections[0, 0, :, 3].max())\n",
    "# print(detections[0, 0, :, 4].min())\n",
    "# print(detections[0, 0, :, 4].max())\n",
    "# print(detections[0, 0, :, 5].min())\n",
    "# print(detections[0, 0, :, 5].max())\n",
    "# print(detections[0, 0, :, 6].min())\n",
    "# print(detections[0, 0, :, 6].max())\n",
    "\n",
    "\n",
    "# print(frameCopy.shape)\n",
    "print(bottomRight.shape)\n",
    "cv2.imshow(\"test\", bottomRight)\n",
    "cv2.waitKey(0)\n",
    "cv2.destroyAllWindows()"
   ]
  },
  {
   "cell_type": "code",
   "execution_count": 28,
   "id": "e98070fe",
   "metadata": {},
   "outputs": [],
   "source": [
    "inputBlob[0] = np.flip(inputBlob[0], 1)"
   ]
  },
  {
   "cell_type": "code",
   "execution_count": 58,
   "id": "d1ca732b",
   "metadata": {},
   "outputs": [
    {
     "name": "stderr",
     "output_type": "stream",
     "text": [
      "Clipping input data to the valid range for imshow with RGB data ([0..1] for floats or [0..255] for integers).\n"
     ]
    },
    {
     "name": "stdout",
     "output_type": "stream",
     "text": [
      "(150, 150, 3)\n"
     ]
    },
    {
     "data": {
      "text/plain": [
       "<matplotlib.image.AxesImage at 0x7f0cafbf1eb0>"
      ]
     },
     "execution_count": 58,
     "metadata": {},
     "output_type": "execute_result"
    },
    {
     "data": {
      "image/png": "[encoded data removed]",
      "text/plain": [
       "<Figure size 432x288 with 1 Axes>"
      ]
     },
     "metadata": {
      "needs_background": "light"
     },
     "output_type": "display_data"
    }
   ],
   "source": [
    "test = cv2.dnn.imagesFromBlob(inputBlob)\n",
    "print(test[0].shape)\n",
    "# blbTest = test[0][]\n",
    "plt.imshow(test[0])"
   ]
  },
  {
   "cell_type": "code",
   "execution_count": 20,
   "id": "c06e0441",
   "metadata": {},
   "outputs": [
    {
     "name": "stdout",
     "output_type": "stream",
     "text": [
      "[[-4, 1, 210, 285], [-4, 1, 210, 285]]\n",
      "[0.9939042925834656, 0.9939042925834656]\n",
      "[[ -4   1 210 285]\n",
      " [ -4   1 210 285]]\n",
      "[0.99390429 0.99390429]\n"
     ]
    },
    {
     "data": {
      "text/plain": [
       "array([[0]], dtype=int32)"
      ]
     },
     "execution_count": 20,
     "metadata": {},
     "output_type": "execute_result"
    }
   ],
   "source": [
    "boxes=[]\n",
    "scores=[]\n",
    "width = int((detections[0, 0, 0, 5] - detections[0, 0, 0, 3])*w)\n",
    "height = int((detections[0, 0,0, 6] - detections[0,0, 0, 4] )*h)\n",
    "left = int(detections[0,0,0, 3] * w)\n",
    "top = int(detections[0,0, 0, 4] * h)\n",
    "boxes.append( [left, top, width, height])\n",
    "boxes.append([left, top, width, height])\n",
    "scores.append(float(detections[0,0, 0, 2]))\n",
    "scores.append(float(detections[0,0, 0, 2]))\n",
    "print(boxes)\n",
    "print(scores)\n",
    "print(np.array(boxes))\n",
    "print(np.array(scores))\n",
    "\n",
    "cv2.dnn.NMSBoxes(boxes, scores, 0.7, 0.5)"
   ]
  },
  {
   "cell_type": "code",
   "execution_count": 21,
   "id": "09e23925",
   "metadata": {},
   "outputs": [
    {
     "ename": "NameError",
     "evalue": "name 'topLeft' is not defined",
     "output_type": "error",
     "traceback": [
      "\u001b[0;31m---------------------------------------------------------------------------\u001b[0m",
      "\u001b[0;31mNameError\u001b[0m                                 Traceback (most recent call last)",
      "\u001b[0;32m/tmp/ipykernel_81028/1965262902.py\u001b[0m in \u001b[0;36m<module>\u001b[0;34m\u001b[0m\n\u001b[0;32m----> 1\u001b[0;31m \u001b[0minputBlobs\u001b[0m \u001b[0;34m=\u001b[0m \u001b[0mcv2\u001b[0m\u001b[0;34m.\u001b[0m\u001b[0mdnn\u001b[0m\u001b[0;34m.\u001b[0m\u001b[0mblobFromImages\u001b[0m\u001b[0;34m(\u001b[0m\u001b[0;34m[\u001b[0m\u001b[0mframe\u001b[0m\u001b[0;34m,\u001b[0m \u001b[0mtopLeft\u001b[0m\u001b[0;34m,\u001b[0m \u001b[0mtopRight\u001b[0m\u001b[0;34m,\u001b[0m \u001b[0mbottomLeft\u001b[0m\u001b[0;34m,\u001b[0m \u001b[0mbottomRight\u001b[0m\u001b[0;34m]\u001b[0m\u001b[0;34m,\u001b[0m \u001b[0;36m1.0\u001b[0m\u001b[0;34m,\u001b[0m \u001b[0;34m(\u001b[0m\u001b[0;36m300\u001b[0m\u001b[0;34m,\u001b[0m \u001b[0;36m300\u001b[0m\u001b[0;34m)\u001b[0m\u001b[0;34m,\u001b[0m \u001b[0;34m(\u001b[0m\u001b[0;36m104.0\u001b[0m\u001b[0;34m,\u001b[0m \u001b[0;36m177.0\u001b[0m\u001b[0;34m,\u001b[0m \u001b[0;36m123.0\u001b[0m\u001b[0;34m)\u001b[0m\u001b[0;34m)\u001b[0m\u001b[0;34m\u001b[0m\u001b[0;34m\u001b[0m\u001b[0m\n\u001b[0m\u001b[1;32m      2\u001b[0m \u001b[0minputBlob\u001b[0m \u001b[0;34m=\u001b[0m \u001b[0mcv2\u001b[0m\u001b[0;34m.\u001b[0m\u001b[0mdnn\u001b[0m\u001b[0;34m.\u001b[0m\u001b[0mblobFromImage\u001b[0m\u001b[0;34m(\u001b[0m\u001b[0mframe\u001b[0m\u001b[0;34m,\u001b[0m \u001b[0;36m1.0\u001b[0m\u001b[0;34m,\u001b[0m \u001b[0;34m(\u001b[0m\u001b[0;36m300\u001b[0m\u001b[0;34m,\u001b[0m \u001b[0;36m300\u001b[0m\u001b[0;34m)\u001b[0m\u001b[0;34m,\u001b[0m \u001b[0;34m(\u001b[0m\u001b[0;36m104.0\u001b[0m\u001b[0;34m,\u001b[0m \u001b[0;36m177.0\u001b[0m\u001b[0;34m,\u001b[0m \u001b[0;36m123.0\u001b[0m\u001b[0;34m)\u001b[0m\u001b[0;34m)\u001b[0m\u001b[0;34m\u001b[0m\u001b[0;34m\u001b[0m\u001b[0m\n",
      "\u001b[0;31mNameError\u001b[0m: name 'topLeft' is not defined"
     ]
    }
   ],
   "source": [
    "inputBlobs = cv2.dnn.blobFromImages([frame, topLeft, topRight, bottomLeft, bottomRight], 1.0, (300, 300), (104.0, 177.0, 123.0))\n",
    "inputBlob = cv2.dnn.blobFromImage(frame, 1.0, (300, 300), (104.0, 177.0, 123.0))\n"
   ]
  },
  {
   "cell_type": "code",
   "execution_count": 13,
   "id": "30b4c637",
   "metadata": {},
   "outputs": [
    {
     "name": "stdout",
     "output_type": "stream",
     "text": [
      "(5, 3, 300, 300)\n",
      "(1, 3, 300, 300)\n"
     ]
    }
   ],
   "source": [
    "print(inputBlobs.shape)\n",
    "print(inputBlob.shape)"
   ]
  },
  {
   "cell_type": "code",
   "execution_count": 14,
   "id": "895c1dcf",
   "metadata": {},
   "outputs": [
    {
     "ename": "error",
     "evalue": "OpenCV(4.5.3) /tmp/pip-req-build-afu9cjzs/opencv/modules/dnn/include/opencv2/dnn/shape_utils.hpp:170: error: (-215:Assertion failed) start <= (int)shape.size() && end <= (int)shape.size() && start <= end in function 'total'\n",
     "output_type": "error",
     "traceback": [
      "\u001b[0;31m---------------------------------------------------------------------------\u001b[0m",
      "\u001b[0;31merror\u001b[0m                                     Traceback (most recent call last)",
      "\u001b[0;32m/tmp/ipykernel_225055/712266877.py\u001b[0m in \u001b[0;36m<module>\u001b[0;34m\u001b[0m\n\u001b[1;32m      1\u001b[0m \u001b[0mnetFace\u001b[0m\u001b[0;34m.\u001b[0m\u001b[0msetInput\u001b[0m\u001b[0;34m(\u001b[0m\u001b[0minputBlobs\u001b[0m\u001b[0;34m,\u001b[0m \u001b[0;34m\"data\"\u001b[0m\u001b[0;34m)\u001b[0m\u001b[0;34m;\u001b[0m\u001b[0;34m\u001b[0m\u001b[0;34m\u001b[0m\u001b[0m\n\u001b[0;32m----> 2\u001b[0;31m \u001b[0mdetectionsBatch\u001b[0m \u001b[0;34m=\u001b[0m \u001b[0mnetFace\u001b[0m\u001b[0;34m.\u001b[0m\u001b[0mforward\u001b[0m\u001b[0;34m(\u001b[0m\u001b[0;34m\"detection_out\"\u001b[0m\u001b[0;34m)\u001b[0m\u001b[0;34m;\u001b[0m\u001b[0;34m\u001b[0m\u001b[0;34m\u001b[0m\u001b[0m\n\u001b[0m\u001b[1;32m      3\u001b[0m \u001b[0;34m\u001b[0m\u001b[0m\n\u001b[1;32m      4\u001b[0m \u001b[0mnetFace\u001b[0m\u001b[0;34m.\u001b[0m\u001b[0msetInput\u001b[0m\u001b[0;34m(\u001b[0m\u001b[0minputBlob\u001b[0m\u001b[0;34m,\u001b[0m \u001b[0;34m\"data\"\u001b[0m\u001b[0;34m)\u001b[0m\u001b[0;34m;\u001b[0m\u001b[0;34m\u001b[0m\u001b[0;34m\u001b[0m\u001b[0m\n\u001b[1;32m      5\u001b[0m \u001b[0mdetections\u001b[0m \u001b[0;34m=\u001b[0m \u001b[0mnetFace\u001b[0m\u001b[0;34m.\u001b[0m\u001b[0mforward\u001b[0m\u001b[0;34m(\u001b[0m\u001b[0;34m\"detection_out\"\u001b[0m\u001b[0;34m)\u001b[0m\u001b[0;34m;\u001b[0m\u001b[0;34m\u001b[0m\u001b[0;34m\u001b[0m\u001b[0m\n",
      "\u001b[0;31merror\u001b[0m: OpenCV(4.5.3) /tmp/pip-req-build-afu9cjzs/opencv/modules/dnn/include/opencv2/dnn/shape_utils.hpp:170: error: (-215:Assertion failed) start <= (int)shape.size() && end <= (int)shape.size() && start <= end in function 'total'\n"
     ]
    }
   ],
   "source": [
    "netFace.setInput(inputBlobs, \"data\");\n",
    "detectionsBatch = netFace.forward(\"detection_out\");\n",
    "\n",
    "netFace.setInput(inputBlob, \"data\");\n",
    "detections = netFace.forward(\"detection_out\");"
   ]
  },
  {
   "cell_type": "code",
   "execution_count": 9,
   "id": "3b4aa8dd",
   "metadata": {},
   "outputs": [
    {
     "name": "stdout",
     "output_type": "stream",
     "text": [
      "(1, 1, 1000, 7)\n",
      "(1, 1, 200, 7)\n"
     ]
    }
   ],
   "source": [
    "print(detectionsBatch.shape)\n",
    "print(detections.shape)"
   ]
  },
  {
   "cell_type": "code",
   "execution_count": 10,
   "id": "0d28f81c",
   "metadata": {},
   "outputs": [
    {
     "name": "stdout",
     "output_type": "stream",
     "text": [
      "[0. 0. 0. 0. 0. 0. 0.]\n"
     ]
    }
   ],
   "source": [
    "print(detections[0][0][109])"
   ]
  },
  {
   "cell_type": "code",
   "execution_count": null,
   "id": "99007564",
   "metadata": {},
   "outputs": [],
   "source": []
  }
 ],
 "metadata": {
  "kernelspec": {
   "display_name": "Python 3.8.10 64-bit",
   "language": "python",
   "name": "python3810jvsc74a57bd031f2aee4e71d21fbe5cf8b01ff0e069b9275f58929596ceb00d14d90e3e16cd6"
  },
  "language_info": {
   "codemirror_mode": {
    "name": "ipython",
    "version": 3
   },
   "file_extension": ".py",
   "mimetype": "text/x-python",
   "name": "python",
   "nbconvert_exporter": "python",
   "pygments_lexer": "ipython3",
   "version": "3.8.10"
  }
 },
 "nbformat": 4,
 "nbformat_minor": 5
}
